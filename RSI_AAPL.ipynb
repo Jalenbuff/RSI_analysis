{
 "cells": [
  {
   "cell_type": "code",
   "execution_count": 15,
   "id": "4bfa3132",
   "metadata": {},
   "outputs": [
    {
     "name": "stdout",
     "output_type": "stream",
     "text": [
      "Collecting requests_cache\n",
      "  Downloading requests_cache-1.2.1-py3-none-any.whl.metadata (9.9 kB)\n",
      "Requirement already satisfied: attrs>=21.2 in /opt/anaconda3/lib/python3.12/site-packages (from requests_cache) (25.3.0)\n",
      "Collecting cattrs>=22.2 (from requests_cache)\n",
      "  Downloading cattrs-24.1.3-py3-none-any.whl.metadata (8.4 kB)\n",
      "Requirement already satisfied: platformdirs>=2.5 in /opt/anaconda3/lib/python3.12/site-packages (from requests_cache) (3.10.0)\n",
      "Requirement already satisfied: requests>=2.22 in /opt/anaconda3/lib/python3.12/site-packages (from requests_cache) (2.32.2)\n",
      "Collecting url-normalize>=1.4 (from requests_cache)\n",
      "  Downloading url_normalize-2.2.1-py3-none-any.whl.metadata (5.6 kB)\n",
      "Requirement already satisfied: urllib3>=1.25.5 in /opt/anaconda3/lib/python3.12/site-packages (from requests_cache) (2.2.2)\n",
      "Requirement already satisfied: charset-normalizer<4,>=2 in /opt/anaconda3/lib/python3.12/site-packages (from requests>=2.22->requests_cache) (2.0.4)\n",
      "Requirement already satisfied: idna<4,>=2.5 in /opt/anaconda3/lib/python3.12/site-packages (from requests>=2.22->requests_cache) (3.7)\n",
      "Requirement already satisfied: certifi>=2017.4.17 in /opt/anaconda3/lib/python3.12/site-packages (from requests>=2.22->requests_cache) (2025.1.31)\n",
      "Downloading requests_cache-1.2.1-py3-none-any.whl (61 kB)\n",
      "\u001b[2K   \u001b[90m━━━━━━━━━━━━━━━━━━━━━━━━━━━━━━━━━━━━━━━━\u001b[0m \u001b[32m61.4/61.4 kB\u001b[0m \u001b[31m1.2 MB/s\u001b[0m eta \u001b[36m0:00:00\u001b[0ma \u001b[36m0:00:01\u001b[0m\n",
      "\u001b[?25hDownloading cattrs-24.1.3-py3-none-any.whl (66 kB)\n",
      "\u001b[2K   \u001b[90m━━━━━━━━━━━━━━━━━━━━━━━━━━━━━━━━━━━━━━━━\u001b[0m \u001b[32m66.5/66.5 kB\u001b[0m \u001b[31m2.1 MB/s\u001b[0m eta \u001b[36m0:00:00\u001b[0m\n",
      "\u001b[?25hDownloading url_normalize-2.2.1-py3-none-any.whl (14 kB)\n",
      "Installing collected packages: url-normalize, cattrs, requests_cache\n",
      "Successfully installed cattrs-24.1.3 requests_cache-1.2.1 url-normalize-2.2.1\n"
     ]
    }
   ],
   "source": [
    "!pip install requests_cache"
   ]
  },
  {
   "cell_type": "code",
   "execution_count": 16,
   "id": "fbe45ff0",
   "metadata": {},
   "outputs": [],
   "source": [
    "import yfinance as yf\n",
    "import pandas as pd\n",
    "import numpy as np\n",
    "import plotly.graph_objects as go\n",
    "import requests\n",
    "import requests_cache\n"
   ]
  },
  {
   "cell_type": "code",
   "execution_count": 18,
   "id": "668695df",
   "metadata": {},
   "outputs": [
    {
     "name": "stderr",
     "output_type": "stream",
     "text": [
      "\n",
      "1 Failed download:\n",
      "['AAPL']: YFRateLimitError('Too Many Requests. Rate limited. Try after a while.')\n"
     ]
    },
    {
     "name": "stdout",
     "output_type": "stream",
     "text": [
      "Empty DataFrame\n",
      "Columns: [(Close, AAPL)]\n",
      "Index: []\n"
     ]
    }
   ],
   "source": [
    "session = requests_cache.CachedSession()\n",
    "session.headers['User-Agent'] = 'Mozilla/5.0 (Windows NT 10.0; Win64; x64)'\n",
    "\n",
    "# Patch yfinance to use this session\n",
    "yf.shared._requests = session  # this is the internal request patch\n",
    "\n",
    "# Download data using yf.download()\n",
    "ticker = 'AAPL'\n",
    "df = yf.download(ticker, period='6mo', interval='1d', progress=False)\n",
    "\n",
    "# Clean\n",
    "df = df[['Close']].copy()\n",
    "print(df.head())"
   ]
  },
  {
   "cell_type": "code",
   "execution_count": null,
   "id": "77164a43",
   "metadata": {},
   "outputs": [],
   "source": [
    "\n",
    "# --- Step 2: Calculate RSI (14-day) ---\n",
    "delta = df['Close'].diff()\n",
    "gain = delta.clip(lower=0)\n",
    "loss = -delta.clip(upper=0)\n",
    "\n",
    "avg_gain = gain.rolling(window=14, min_periods=14).mean()\n",
    "avg_loss = loss.rolling(window=14, min_periods=14).mean()\n",
    "rs = avg_gain / avg_loss\n",
    "df['RSI'] = 100 - (100 / (1 + rs))\n",
    "\n",
    "# --- Step 3: Plot 1 - Price + RSI Chart ---\n",
    "price_fig = go.Figure()\n",
    "price_fig.add_trace(go.Scatter(x=df.index, y=df['Close'], name='AAPL Price'))\n",
    "\n",
    "price_fig.update_layout(\n",
    "    title=\"📈 AAPL Price\",\n",
    "    template='plotly_white'\n",
    ")\n",
    "\n",
    "rsi_fig = go.Figure()\n",
    "rsi_fig.add_trace(go.Scatter(x=df.index, y=df['RSI'], name='RSI', line=dict(color='blue')))\n",
    "rsi_fig.add_shape(type='line', x0=df.index[0], x1=df.index[-1], y0=70, y1=70,\n",
    "                  line=dict(color='red', dash='dash'), name='Overbought')\n",
    "rsi_fig.add_shape(type='line', x0=df.index[0], x1=df.index[-1], y0=30, y1=30,\n",
    "                  line=dict(color='green', dash='dash'), name='Oversold')\n",
    "rsi_fig.update_layout(\n",
    "    title=\"📊 RSI Indicator (14-day)\",\n",
    "    yaxis=dict(title=\"RSI\"),\n",
    "    template='plotly_white'\n",
    ")\n",
    "\n",
    "# --- Step 4: Alpha Decay Calculation ---\n",
    "df['Returns'] = df['Close'].pct_change()\n",
    "df['Signal'] = df['RSI'] < 30  # Buy when RSI < 30\n",
    "N = 10  # look 10 days ahead\n",
    "decay_matrix = []\n",
    "\n",
    "trigger_dates = df[df['Signal']].index\n",
    "\n",
    "for date in trigger_dates:\n",
    "    idx = df.index.get_loc(date)\n",
    "    if idx + N < len(df):\n",
    "        future_returns = df['Returns'].iloc[idx+1:idx+N+1].values\n",
    "        decay_matrix.append(future_returns)\n",
    "\n",
    "if decay_matrix:\n",
    "    decay_df = pd.DataFrame(decay_matrix)\n",
    "    decay_avg = decay_df.mean()\n",
    "else:\n",
    "    decay_avg = pd.Series([0]*N)\n",
    "\n",
    "decay_fig = go.Figure()\n",
    "decay_fig.add_trace(go.Bar(\n",
    "    x=[f\"T+{i+1}\" for i in range(N)],\n",
    "    y=decay_avg,\n",
    "    name='Avg Return'\n",
    "))\n",
    "decay_fig.update_layout(\n",
    "    title=\"🔬 Alpha Decay After RSI < 30\",\n",
    "    yaxis_title=\"Avg Return\",\n",
    "    template='plotly_white'\n",
    ")\n",
    "\n",
    "# --- Step 5: RSI-Based Strategy Cumulative Return ---\n",
    "df['Position'] = 0\n",
    "holding_period = 3\n",
    "for date in trigger_dates:\n",
    "    idx = df.index.get_loc(date)\n",
    "    df.loc[df.index[idx+1:idx+1+holding_period], 'Position'] = 1\n",
    "\n",
    "df['Strategy'] = df['Position'] * df['Returns']\n",
    "df['Strategy_Cum'] = (1 + df['Strategy'].fillna(0)).cumprod()\n",
    "df['BuyHold_Cum'] = (1 + df['Returns'].fillna(0)).cumprod()\n",
    "\n",
    "cum_fig = go.Figure()\n",
    "cum_fig.add_trace(go.Scatter(x=df.index, y=df['BuyHold_Cum'], name='Buy & Hold'))\n",
    "cum_fig.add_trace(go.Scatter(x=df.index, y=df['Strategy_Cum'], name='RSI Strategy'))\n",
    "cum_fig.update_layout(\n",
    "    title=\"💹 Cumulative Returns: RSI < 30 vs Buy & Hold\",\n",
    "    yaxis_title=\"Growth of $1\",\n",
    "    template='plotly_white'\n",
    ")\n",
    "\n",
    "# --- Step 6: Show or Save ---\n",
    "# Show in Jupyter or script\n",
    "price_fig.show()\n",
    "rsi_fig.show()\n",
    "decay_fig.show()\n",
    "cum_fig.show()\n",
    "\n",
    "# Optionally save images\n",
    "# price_fig.write_image(\"1_price.png\")\n",
    "# rsi_fig.write_image(\"2_rsi.png\")\n",
    "# decay_fig.write_image(\"3_decay.png\")\n",
    "# cum_fig.write_image(\"4_cum.png\")"
   ]
  },
  {
   "cell_type": "code",
   "execution_count": null,
   "id": "bae57b4f",
   "metadata": {},
   "outputs": [],
   "source": []
  }
 ],
 "metadata": {
  "kernelspec": {
   "display_name": "base",
   "language": "python",
   "name": "python3"
  },
  "language_info": {
   "codemirror_mode": {
    "name": "ipython",
    "version": 3
   },
   "file_extension": ".py",
   "mimetype": "text/x-python",
   "name": "python",
   "nbconvert_exporter": "python",
   "pygments_lexer": "ipython3",
   "version": "3.12.2"
  }
 },
 "nbformat": 4,
 "nbformat_minor": 5
}
